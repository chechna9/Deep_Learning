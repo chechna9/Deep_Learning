{
 "cells": [
  {
   "cell_type": "markdown",
   "metadata": {},
   "source": [
    "# TP 2-2 -  Pokemon : Seconde partie (Apprentissage)\n",
    "### Modules necessaires :\n",
    "*   PANDAS 0.24.2\n",
    "*   NUMPY 1.16.3\n",
    "*   MATPLOTLIB 3.0.3\n",
    "*   SEABORN 0.9.0\n",
    "*   SCIKIT-LEARN 0.20.3"
   ]
  },
  {
   "cell_type": "markdown",
   "metadata": {},
   "source": [
    "# Phase d'apprentissage\n",
    "\n",
    "Le problème que nous devons résoudre consiste à déterminer si lors d'un combat, un Pokémon a de grandes chances de gagner, nous devons donc prédire le pourcentage de victoire. C'est une valeur et nous utiliserons naturellement les algorithmes de régression, à savoir :\n",
    "\n",
    "- La régression linéaire\n",
    "- Les arbres de décisions \n",
    "- Les forêts aléatoires\n",
    "\n",
    "#### - Découper les observations en jeu d'apprentissage et jeu de tests\n",
    "- Charger le fichier `datas/dataset.csv` et supprimer les lignes pour lesquelles des valeurs sont manquantes\n",
    "- Extraire les features qui seront source d'apprentissage (données X), et les features que nous devons prédire à partir de ces données d'apprentissage.\n",
    "\n",
    ">En d'autres termes, nous devons apprendre à la machine à prédire un pourcentage de victoire d'un Pokémon en fonction de ses points d'attaque (standards et spéciaux), de sa vitesse, de ses points de vie, de ses points de défense (standards et spéciaux), et de son nombre de générations. Il faut donc définir les variables prédictives (X) et la variable à prédire (Y).\n",
    "\n",
    "## Algorithmes de régression linéaire\n",
    "\n",
    "Un algorithme de régression linéaire modélise les relations entre une variable prédictive et une variable cible.\n",
    "Dans notre cas, les variables prédictives sont :\n",
    "- les points de vie\n",
    "- le niveau d'attaque\n",
    "- le niveau de défense\n",
    "- le niveau d'attaque spéciale\n",
    "- le niveau de défense spécial\n",
    "- la vitesse et la génération du Pokémon\n",
    "\n",
    "Et la variable cible (la prédiction) est :\n",
    "- le pourcentage de victoire\n",
    "\n",
    "\n",
    "#### - Utiliser l'algorithme de régression linéaire et calculer la précision d'apprentissage. \n",
    "\n",
    "#### - Utiliser les arbres de décisions en faisant attention à bien utiliser l'algorithme destiné aux problèmes de régression\n",
    "\n",
    "####  - Utiliser l'algorithme des forêts aléatoires (toujours appliqué à la régression) \n",
    "\n",
    "#### - Quel constat on peut faire? \n",
    "\n",
    "#### -  Sauvegarder le modèle d'apprentissage"
   ]
  },
  {
   "cell_type": "code",
   "execution_count": null,
   "metadata": {},
   "outputs": [],
   "source": []
  }
 ],
 "metadata": {
  "kernelspec": {
   "display_name": "Python 3.7 (tensorflow)",
   "language": "python",
   "name": "tensorflow"
  },
  "language_info": {
   "codemirror_mode": {
    "name": "ipython",
    "version": 3
   },
   "file_extension": ".py",
   "mimetype": "text/x-python",
   "name": "python",
   "nbconvert_exporter": "python",
   "pygments_lexer": "ipython3",
   "version": "3.7.9"
  }
 },
 "nbformat": 4,
 "nbformat_minor": 4
}
