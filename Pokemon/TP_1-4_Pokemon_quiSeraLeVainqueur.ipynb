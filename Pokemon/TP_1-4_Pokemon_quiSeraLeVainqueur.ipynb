{
 "cells": [
  {
   "cell_type": "markdown",
   "metadata": {},
   "source": [
    "# TP 2-3 - Pokémon : Seconde partie (Prédiction)\n",
    "\n",
    "\n",
    "# Utiliser le modèle d'apprentissage dans une application\n",
    "\n",
    "Nous disposons d'un modèle d'apprentissage capable de nous prédire le pourcentage de victoire de chaque Pokémon. Il faut à présent utiliser ce modèle d'apprentissage ayant pour objectif de prédire le vainqueur d'un combat opposant deux Pokémons choisis dans le Pokédex."
   ]
  },
  {
   "cell_type": "markdown",
   "metadata": {},
   "source": [
    "#### - Ecrire une fonction qui sera chargée de chercher les informations d'un Pokémon dans le Pokédex à partir de son numéro.\n",
    "#### - Ecrire une fonction principale permettant de prédire qui des deux Pokémons combattants sera le vainqueur.\n",
    "\n",
    "Cette fonction prend en paramètres :\n",
    "- le numéro du premier Pokémon \n",
    "- le numéro du second Pokémon \n",
    "- le Pokédex\n",
    "\n",
    "La première action de notre fonction est de rechercher les informations sur les deux Pokémons.Viennent ensuite le chargement du modèle et la prédiction pour chaque Pokémon."
   ]
  },
  {
   "cell_type": "code",
   "execution_count": null,
   "metadata": {},
   "outputs": [],
   "source": []
  }
 ],
 "metadata": {
  "kernelspec": {
   "display_name": "Python 3.7 (tensorflow)",
   "language": "python",
   "name": "tensorflow"
  },
  "language_info": {
   "codemirror_mode": {
    "name": "ipython",
    "version": 3
   },
   "file_extension": ".py",
   "mimetype": "text/x-python",
   "name": "python",
   "nbconvert_exporter": "python",
   "pygments_lexer": "ipython3",
   "version": "3.7.9"
  }
 },
 "nbformat": 4,
 "nbformat_minor": 4
}
