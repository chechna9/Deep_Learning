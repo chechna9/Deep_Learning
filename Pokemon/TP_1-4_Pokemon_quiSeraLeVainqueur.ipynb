{
 "cells": [
  {
   "cell_type": "markdown",
   "metadata": {},
   "source": [
    "# TP 2-3 - Pokémon : Seconde partie (Prédiction)\n",
    "\n",
    "\n",
    "# Utiliser le modèle d'apprentissage dans une application\n",
    "\n",
    "Nous disposons d'un modèle d'apprentissage capable de nous prédire le pourcentage de victoire de chaque Pokémon. Il faut à présent utiliser ce modèle d'apprentissage ayant pour objectif de prédire le vainqueur d'un combat opposant deux Pokémons choisis dans le Pokédex."
   ]
  },
  {
   "cell_type": "markdown",
   "metadata": {},
   "source": [
    "#### - Ecrire une fonction qui sera chargée de chercher les informations d'un Pokémon dans le Pokédex à partir de son numéro.\n",
    "#### - Ecrire une fonction principale permettant de prédire qui des deux Pokémons combattants sera le vainqueur.\n",
    "\n",
    "Cette fonction prend en paramètres :\n",
    "- le numéro du premier Pokémon \n",
    "- le numéro du second Pokémon \n",
    "- le Pokédex\n",
    "\n",
    "La première action de notre fonction est de rechercher les informations sur les deux Pokémons.Viennent ensuite le chargement du modèle et la prédiction pour chaque Pokémon."
   ]
  },
  {
   "cell_type": "code",
   "execution_count": 1,
   "metadata": {},
   "outputs": [],
   "source": [
    "import pandas as pd\n",
    "import joblib"
   ]
  },
  {
   "cell_type": "code",
   "execution_count": 2,
   "metadata": {},
   "outputs": [],
   "source": [
    "# loading the model \n",
    "loaded_model = loaded_model = joblib.load('pokemon_win_ratio_model.joblib')"
   ]
  },
  {
   "cell_type": "code",
   "execution_count": 11,
   "metadata": {},
   "outputs": [
    {
     "data": {
      "text/plain": [
       "array(['POINTS_DE_VIE', 'POINTS_ATTAQUE', 'POINTS_DEFFENCE',\n",
       "       'POINTS_ATTAQUE_SPECIALE', 'POINT_DEFENSE_SPECIALE',\n",
       "       'POINTS_VITESSE', 'NOMBRE_GENERATIONS', 'LEGENDAIRE'], dtype=object)"
      ]
     },
     "execution_count": 11,
     "metadata": {},
     "output_type": "execute_result"
    }
   ],
   "source": [
    "features = loaded_model.feature_names_in_\n",
    "features"
   ]
  },
  {
   "cell_type": "code",
   "execution_count": 15,
   "metadata": {},
   "outputs": [
    {
     "data": {
      "text/html": [
       "<div>\n",
       "<style scoped>\n",
       "    .dataframe tbody tr th:only-of-type {\n",
       "        vertical-align: middle;\n",
       "    }\n",
       "\n",
       "    .dataframe tbody tr th {\n",
       "        vertical-align: top;\n",
       "    }\n",
       "\n",
       "    .dataframe thead th {\n",
       "        text-align: right;\n",
       "    }\n",
       "</style>\n",
       "<table border=\"1\" class=\"dataframe\">\n",
       "  <thead>\n",
       "    <tr style=\"text-align: right;\">\n",
       "      <th></th>\n",
       "      <th>NUMERO</th>\n",
       "      <th>NOM</th>\n",
       "      <th>TYPE_1</th>\n",
       "      <th>TYPE_2</th>\n",
       "      <th>POINTS_DE_VIE</th>\n",
       "      <th>POINTS_ATTAQUE</th>\n",
       "      <th>POINTS_DEFFENCE</th>\n",
       "      <th>POINTS_ATTAQUE_SPECIALE</th>\n",
       "      <th>POINT_DEFENSE_SPECIALE</th>\n",
       "      <th>POINTS_VITESSE</th>\n",
       "      <th>NOMBRE_GENERATIONS</th>\n",
       "      <th>LEGENDAIRE</th>\n",
       "      <th>nb_wins</th>\n",
       "      <th>nb_combats</th>\n",
       "      <th>win_ratio</th>\n",
       "    </tr>\n",
       "  </thead>\n",
       "  <tbody>\n",
       "    <tr>\n",
       "      <th>0</th>\n",
       "      <td>1</td>\n",
       "      <td>Bulbizarre</td>\n",
       "      <td>Herbe</td>\n",
       "      <td>Poison</td>\n",
       "      <td>45</td>\n",
       "      <td>49</td>\n",
       "      <td>49</td>\n",
       "      <td>65</td>\n",
       "      <td>65</td>\n",
       "      <td>45</td>\n",
       "      <td>1</td>\n",
       "      <td>0</td>\n",
       "      <td>37</td>\n",
       "      <td>133</td>\n",
       "      <td>0.278</td>\n",
       "    </tr>\n",
       "    <tr>\n",
       "      <th>1</th>\n",
       "      <td>2</td>\n",
       "      <td>Herbizarre</td>\n",
       "      <td>Herbe</td>\n",
       "      <td>Poison</td>\n",
       "      <td>60</td>\n",
       "      <td>62</td>\n",
       "      <td>63</td>\n",
       "      <td>80</td>\n",
       "      <td>80</td>\n",
       "      <td>60</td>\n",
       "      <td>1</td>\n",
       "      <td>0</td>\n",
       "      <td>46</td>\n",
       "      <td>121</td>\n",
       "      <td>0.380</td>\n",
       "    </tr>\n",
       "    <tr>\n",
       "      <th>2</th>\n",
       "      <td>3</td>\n",
       "      <td>Florizarre</td>\n",
       "      <td>Herbe</td>\n",
       "      <td>Poison</td>\n",
       "      <td>80</td>\n",
       "      <td>82</td>\n",
       "      <td>83</td>\n",
       "      <td>100</td>\n",
       "      <td>100</td>\n",
       "      <td>80</td>\n",
       "      <td>1</td>\n",
       "      <td>0</td>\n",
       "      <td>89</td>\n",
       "      <td>132</td>\n",
       "      <td>0.674</td>\n",
       "    </tr>\n",
       "    <tr>\n",
       "      <th>3</th>\n",
       "      <td>4</td>\n",
       "      <td>Mega Florizarre</td>\n",
       "      <td>Herbe</td>\n",
       "      <td>Poison</td>\n",
       "      <td>80</td>\n",
       "      <td>100</td>\n",
       "      <td>123</td>\n",
       "      <td>122</td>\n",
       "      <td>120</td>\n",
       "      <td>80</td>\n",
       "      <td>1</td>\n",
       "      <td>0</td>\n",
       "      <td>70</td>\n",
       "      <td>125</td>\n",
       "      <td>0.560</td>\n",
       "    </tr>\n",
       "    <tr>\n",
       "      <th>4</th>\n",
       "      <td>5</td>\n",
       "      <td>Salamèche</td>\n",
       "      <td>Feu</td>\n",
       "      <td>NaN</td>\n",
       "      <td>39</td>\n",
       "      <td>52</td>\n",
       "      <td>43</td>\n",
       "      <td>60</td>\n",
       "      <td>50</td>\n",
       "      <td>65</td>\n",
       "      <td>1</td>\n",
       "      <td>0</td>\n",
       "      <td>55</td>\n",
       "      <td>112</td>\n",
       "      <td>0.491</td>\n",
       "    </tr>\n",
       "  </tbody>\n",
       "</table>\n",
       "</div>"
      ],
      "text/plain": [
       "   NUMERO              NOM TYPE_1  TYPE_2  POINTS_DE_VIE  POINTS_ATTAQUE  \\\n",
       "0       1       Bulbizarre  Herbe  Poison             45              49   \n",
       "1       2       Herbizarre  Herbe  Poison             60              62   \n",
       "2       3       Florizarre  Herbe  Poison             80              82   \n",
       "3       4  Mega Florizarre  Herbe  Poison             80             100   \n",
       "4       5        Salamèche    Feu     NaN             39              52   \n",
       "\n",
       "   POINTS_DEFFENCE  POINTS_ATTAQUE_SPECIALE  POINT_DEFENSE_SPECIALE  \\\n",
       "0               49                       65                      65   \n",
       "1               63                       80                      80   \n",
       "2               83                      100                     100   \n",
       "3              123                      122                     120   \n",
       "4               43                       60                      50   \n",
       "\n",
       "   POINTS_VITESSE  NOMBRE_GENERATIONS  LEGENDAIRE  nb_wins  nb_combats  \\\n",
       "0              45                   1           0       37         133   \n",
       "1              60                   1           0       46         121   \n",
       "2              80                   1           0       89         132   \n",
       "3              80                   1           0       70         125   \n",
       "4              65                   1           0       55         112   \n",
       "\n",
       "   win_ratio  \n",
       "0      0.278  \n",
       "1      0.380  \n",
       "2      0.674  \n",
       "3      0.560  \n",
       "4      0.491  "
      ]
     },
     "execution_count": 15,
     "metadata": {},
     "output_type": "execute_result"
    }
   ],
   "source": [
    "pokedex = pd.read_csv('./new_pokedex.csv',index_col=0)\n",
    "pokedex.head()"
   ]
  },
  {
   "cell_type": "code",
   "execution_count": 19,
   "metadata": {},
   "outputs": [],
   "source": [
    "def get_pokemon(numero,pokedex):\n",
    "    return pokedex.loc[pokedex['NUMERO'] == numero][features]"
   ]
  },
  {
   "cell_type": "code",
   "execution_count": 20,
   "metadata": {},
   "outputs": [
    {
     "data": {
      "text/html": [
       "<div>\n",
       "<style scoped>\n",
       "    .dataframe tbody tr th:only-of-type {\n",
       "        vertical-align: middle;\n",
       "    }\n",
       "\n",
       "    .dataframe tbody tr th {\n",
       "        vertical-align: top;\n",
       "    }\n",
       "\n",
       "    .dataframe thead th {\n",
       "        text-align: right;\n",
       "    }\n",
       "</style>\n",
       "<table border=\"1\" class=\"dataframe\">\n",
       "  <thead>\n",
       "    <tr style=\"text-align: right;\">\n",
       "      <th></th>\n",
       "      <th>POINTS_DE_VIE</th>\n",
       "      <th>POINTS_ATTAQUE</th>\n",
       "      <th>POINTS_DEFFENCE</th>\n",
       "      <th>POINTS_ATTAQUE_SPECIALE</th>\n",
       "      <th>POINT_DEFENSE_SPECIALE</th>\n",
       "      <th>POINTS_VITESSE</th>\n",
       "      <th>NOMBRE_GENERATIONS</th>\n",
       "      <th>LEGENDAIRE</th>\n",
       "    </tr>\n",
       "  </thead>\n",
       "  <tbody>\n",
       "    <tr>\n",
       "      <th>7</th>\n",
       "      <td>78</td>\n",
       "      <td>130</td>\n",
       "      <td>111</td>\n",
       "      <td>130</td>\n",
       "      <td>85</td>\n",
       "      <td>100</td>\n",
       "      <td>1</td>\n",
       "      <td>0</td>\n",
       "    </tr>\n",
       "  </tbody>\n",
       "</table>\n",
       "</div>"
      ],
      "text/plain": [
       "   POINTS_DE_VIE  POINTS_ATTAQUE  POINTS_DEFFENCE  POINTS_ATTAQUE_SPECIALE  \\\n",
       "7             78             130              111                      130   \n",
       "\n",
       "   POINT_DEFENSE_SPECIALE  POINTS_VITESSE  NOMBRE_GENERATIONS  LEGENDAIRE  \n",
       "7                      85             100                   1           0  "
      ]
     },
     "execution_count": 20,
     "metadata": {},
     "output_type": "execute_result"
    }
   ],
   "source": [
    "get_pokemon(8,pokedex)"
   ]
  },
  {
   "cell_type": "code",
   "execution_count": 21,
   "metadata": {},
   "outputs": [
    {
     "data": {
      "text/plain": [
       "array([0.8217])"
      ]
     },
     "execution_count": 21,
     "metadata": {},
     "output_type": "execute_result"
    }
   ],
   "source": [
    "loaded_model.predict(get_pokemon(8,pokedex)) "
   ]
  },
  {
   "cell_type": "code",
   "execution_count": 22,
   "metadata": {},
   "outputs": [],
   "source": [
    "def predict(num1,num2,pokedex):\n",
    "    pokemon1 = get_pokemon(num1,pokedex)\n",
    "    pokemon2 = get_pokemon(num2,pokedex)\n",
    "    \n",
    "    pokemon1_chance = loaded_model.predict(pokemon1)\n",
    "    pokemon2_chance = loaded_model.predict(pokemon2)\n",
    "    \n",
    "    if pokemon1_chance > pokemon2_chance:\n",
    "        print(\"Pokemon 1 will win!\")\n",
    "    elif pokemon1_chance < pokemon2_chance:\n",
    "        print(\"Pokemon 2 will win!\")\n",
    "    else :\n",
    "        print(\"Draw!\")\n",
    "    "
   ]
  },
  {
   "cell_type": "code",
   "execution_count": 38,
   "metadata": {},
   "outputs": [
    {
     "name": "stdout",
     "output_type": "stream",
     "text": [
      "Pokemon 1 will win!\n",
      "Pokemon 2 will win!\n",
      "Draw!\n"
     ]
    }
   ],
   "source": [
    "predict(3,10,pokedex)\n",
    "predict(1,2,pokedex)\n",
    "predict(10,10,pokedex)"
   ]
  }
 ],
 "metadata": {
  "kernelspec": {
   "display_name": "base",
   "language": "python",
   "name": "python3"
  },
  "language_info": {
   "codemirror_mode": {
    "name": "ipython",
    "version": 3
   },
   "file_extension": ".py",
   "mimetype": "text/x-python",
   "name": "python",
   "nbconvert_exporter": "python",
   "pygments_lexer": "ipython3",
   "version": "3.9.18"
  }
 },
 "nbformat": 4,
 "nbformat_minor": 4
}
