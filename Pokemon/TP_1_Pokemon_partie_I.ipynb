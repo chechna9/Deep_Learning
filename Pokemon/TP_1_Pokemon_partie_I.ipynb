{
 "cells": [
  {
   "cell_type": "markdown",
   "metadata": {},
   "source": [
    "\n",
    "# TP Pokemon première partie\n",
    "\n",
    "## Modules necessaires\n",
    "\n",
    "* PANDAS 0.24.2  => Permet la manipulation et l'analyse de données\n",
    "* NUMPY 1.16.3   => Permet la manipulation de tableaux et matrices\n",
    "\n",
    "Dans ce TP, nous allons découvrir à travers un cas pratique les premières étapes pour mener à bien un projet de Machine Learning. Cet exemple permet d'aborder un large panel de techniques propres au Machine Learning et à l'analyse de données.\n",
    "\n",
    "## L'univers des Pokémons\n",
    "\n",
    "Un Pokémon est un animal issu du monde des jeux vidéo. Chaque Pokémon possède des caractéristiques qui lui sont propres, à savoir son type (Pokémon d'herbe, Pokémon de feu ... ) lui donnant alors des facultés spéciales. Ainsi, le Pokémon nommé `Dracofeu`, de type `Feu` est capable de cracher du feu. De plus, on note l'existence de Pokémons légendaires très rares et très puissants (Pokémon diamant, Pokémon platine...).\n",
    "\n",
    "Les Pokémons sont également de différentes générations faisant référence à l'évolution de l'univers des Pokémons. Les Pokémons de première génération sont ceux ayant pris naissance au tout début de la création de l'univers (création de 151 Pokémons) pour arriver à la huitième génération avec plus de 800 Pokémons (2020)!\n",
    "\n",
    "Dans cet univers viennent ensuite les dresseurs de Pokémons. Les dresseurs les collectionnent et les élèvent dans le but de les faire combattre entre eux jusqu'au KO. Lors d'un combat de Pokémons, opposant deux dresseurs, l'un choisit l'animal qui sera le premier à entrer dans l'arène. En fonction de ce premier Pokémon, le second dresseur choisit un animal dans sa collection qui sera en mesure de battre le premier Pokémon. Si le premier Pokémon présent dans l'arène est de type feu, il y a de fortes chances que le Pokémon choisi par l'adversaire soit de type eau afin de contrer les attaques du premier.\n",
    "\n",
    "Cela nécessite pour le dresseur d'avoir une bonne connaissance de chaque Pokémon pour choisir celui qui pourra devenir vainqueur du combat. Pour l'aider dans son choix, les caractéristiques des Pokémons sont répertoriées dans un document appelé Pokédex.\n",
    "\n",
    "# Mission : choisir le bon Pokémon!\n",
    "\n",
    "En tant que dresseurs de Pokémon du 21e siècle, on vous demande de faire appel au Machine Learning pour faire le bon choix de Pokémon et ainsi gagner nos combats. Pour cela, vous pouvez vous appuyer sur des données en provenance du Pokédex, mais aussi sur des données issues des différents combats afin de trouver le bon modèle de prédiction qui pourra alors nous assurer une victoire lors de chaque bataille!\n",
    "\n",
    "\n",
    "# Des données pour un apprentissage supervisé\n",
    "\n",
    "## Des données basées sur l'expérience\n",
    "\n",
    "Le Machine Learning est basé sur l'utilisation de données afin de permettre à notre ordinateur d'apprendre et de pouvoir réaliser des prédictions. Ces données doivent être en relation avec la mission qui nous est confiée et basée sur l'expérience. Dans notre cas, l'expérience consiste à connaître les issues de combats de Pokémons.\n",
    "\n",
    "\n",
    "## Disposer d'un grand nombre de données d'apprentissage\n",
    "\n",
    "Une machine n'est pas capable d'apprendre sur un petit jeu de données, car elle doit pouvoir étudier toutes les possibilités pour réaliser ses prédictions. Par conséquent, plus le nombre de cas d'études pour résoudre un problème est important, plus les prédictions seront précises.\n",
    "\n",
    "## Des données d'apprentissage et des données de tests\n",
    "\n",
    "Tout comme l'être humain, il est nécessaire de valider l'apprentissage de la machine afin de pouvoir corriger les écarts d'apprentissage (appelés biais) et ajuster ou modifier le modèle d'apprentissage. Pour cela, nous avons besoin de données d'apprentissage et de données de tests.\n",
    "\n",
    "# Les étapes à réaliser pour mener à bien un projet de Machine Learning\n",
    "\n",
    "Mener à bien un projet de Machine Learning consiste à réaliser six étapes consécutives :\n",
    "\n",
    "1. Définition du problème à résoudre\n",
    "2. Acquisition des données d'apprentissages et de tests\n",
    "3. Préparer et nettoyer les données\n",
    "4. Analyser, explorer les données\n",
    "5. Choisir un modèle d'apprentissage\n",
    "6. Visualiser les résultats, et ajuster ou modifier le modèle d'apprentissage\n",
    "\n",
    "La phase de préparation des données est la plus importante dans un projet de Machine Learning, car en tant qu'humains, nous devons essayer de trouver les données les plus intéressantes qui nous permettront de répondre au problème donné.\n",
    "\n",
    "Bien plus qu'une simple analyse des données, il faut déterminer comment il nous est possible de résoudre manuellement le problème, à partir des informations dont nous disposons, avant de le confier à la machine.\n",
    "Ainsi, un même jeu de données peut être exploité différemment en fonction du problème donné.\n"
   ]
  },
  {
   "cell_type": "markdown",
   "metadata": {},
   "source": [
    "# Étape 1 : définir le problème à résoudre\n",
    "\n",
    "- Donner une défintion du problème à résoudre."
   ]
  },
  {
   "cell_type": "markdown",
   "metadata": {},
   "source": [
    "# Étape 2: acquérir des données d'apprentissage et de tests\n",
    "\n",
    "- Importer les librairies `OS` et `pandas`\n",
    "\n",
    "- Télécharger et copier les fichiers comportant les données nécessaires à la résolution du problème : \n",
    "    1. Le fichier Pokedex.csv contient la liste des Pokémons et leurs caractéristiques. \n",
    "    2. Le fichier Combats.csv est la base de connaissance et d'apprentissage, car il contient une liste de combats de Pokémons et le résultat de chacun d'entre eux. \n",
    "    3. Enfin, le fichier tests.csv permettra de valider le modèle d'apprentissage.\n",
    "\n",
    "- Affichier la liste des fichiers dans le repértoire du projet\n"
   ]
  },
  {
   "cell_type": "markdown",
   "metadata": {},
   "source": [
    "# Étape 3 : préparation des données\n",
    "\n",
    "Dans cette troisième étape, l'objectif est de réaliser une lecture approfondie des données afin de comprendre leur rôle et les impacts qu'elles peuvent avoir dans notre objectif de prédiction. C'est une sorte de résolution manuelle du problème en formulant des hypothèses et en essayant de sélectionner les données qui répondront à celles-ci.\n",
    "\n",
    "L'étude des données passe notamment par leur description (nom, type...), ainsi que par divers processus de traitement tels que le nettoyage (suppression des données inutiles, recherche des données manquantes) et enfin la combinaison entre elles, aussi appelée agrégation, dans le but de disposer d'un jeu de connaissances (observations) utilisables et appropriées à l'apprentissage et à l'atteinte de notre objectif.\n",
    "\n",
    "## De quelles données disposons-nous?\n",
    "\n",
    "#### - Quelle est la structure des données? \n",
    "#### - Afficher les 10 premières lignes\n",
    "#### - Quelles sont les features de catégorisation?\n",
    "#### - Est-ce qu'il existe des données de cétégorisation ordinale? \n",
    "#### - Préciser dans un tableau le type des données. \n",
    "#### - Quel est l'intérêt de connaitre les features de catégorisation?\n",
    "#### - Quelles données sont de type numérique (Préciser discrètes ou continues)? \n",
    "#### - Pourquoi il est important de les connaitre?\n",
    "#### - Que faut-il penser de la feature LEGENDAIRE?\n",
    "#### - Transformer la feature $Legendaire$ en entier 0= FAUX et 1=VRAI\n",
    "#### - Combien avons-nous d'observations?\n",
    "#### - Afficher une description des données.\n",
    "#### - Afficher les informations le jeu de données\n",
    "#### - Manque-t-il des données? Si oui, discuter. \n",
    "\n",
    "### Recherche des features manquantes\n",
    "\n",
    "####  - Chercher le Pokemon dont le nom est manquant\n",
    "####  - Comment traiter les observations manquantes? "
   ]
  },
  {
   "cell_type": "markdown",
   "metadata": {},
   "source": [
    "# Partie 2\n",
    "\n",
    "##  Observations des combats"
   ]
  },
  {
   "cell_type": "markdown",
   "metadata": {},
   "source": [
    "#### - Refaire les étapes précédentes pour analyser les observation sur les combats (fichier `combats.csv`) :\n",
    "\n",
    "- Chargement du fichier\n",
    "- Affichage des features\n",
    "- Affichage des dix premières observations\n",
    "- Classement des features: donnée catégorielle, numérique continue ou numérique discrète\n",
    "- 10 premières lignes, Comptage du nombre d'observations, affichage des informations  et recherche d'éventuelles données absentes\n",
    "\n",
    "#### - Discuter les résultats de l'analyse\n",
    "\n",
    "\n",
    "#### - Calucler le nombre de combats menés par chaque Pokémon\n",
    "Lors d'un combat, un Pokémon peut être utilisé en première position ou en seconde position.\n",
    "\n",
    "#### - Calucler le nombre de combats gagnés par chaque Pokémon \n",
    "\n",
    "#### - Faire l'assemblage des observations\n",
    "\n",
    "#### - Quel est le Pockémon qui a gagné le plus de combats? \n",
    "\n",
    "#### - Existe-t-il des Pokémons n'ayant jamais gagné?\n",
    "\n",
    "\n",
    "\n"
   ]
  },
  {
   "cell_type": "markdown",
   "metadata": {},
   "source": [
    "# Partie 3\n",
    "\n",
    "## Agrégation des données avec le Pokédex\n",
    "\n",
    "Cette agrégation va nous permettre d'avoir une vue centralisée des données et de permettre une analyse plus approfondie.\n",
    "\n",
    "#### - Créer une liste comportant :\n",
    "- Les numéros des Pokémons\n",
    "- Le nombre de combats menés\n",
    "- Le nombre de combats gagnés\n",
    "- Le pourcentage de victoires par rapport au nombre de combats menés\n",
    "\n",
    "#### - Créer un nouveau Pokedex comportant les noms de Pokemons et leur victoire\n"
   ]
  }
 ],
 "metadata": {
  "kernelspec": {
   "display_name": "Python 3",
   "language": "python",
   "name": "python3"
  },
  "language_info": {
   "codemirror_mode": {
    "name": "ipython",
    "version": 3
   },
   "file_extension": ".py",
   "mimetype": "text/x-python",
   "name": "python",
   "nbconvert_exporter": "python",
   "pygments_lexer": "ipython3",
   "version": "3.6.13"
  }
 },
 "nbformat": 4,
 "nbformat_minor": 4
}
