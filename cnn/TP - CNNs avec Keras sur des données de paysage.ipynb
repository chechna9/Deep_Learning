{
 "cells": [
  {
   "cell_type": "markdown",
   "metadata": {
    "id": "Be5uBRdgbhey"
   },
   "source": [
    "# CNNs avec Keras sur des données de paysage"
   ]
  },
  {
   "cell_type": "markdown",
   "metadata": {
    "id": "7-diCsctWfSh"
   },
   "source": [
    "## Vérification de l'utilisation de GPU\n",
    "\n",
    "Allez dans le menu `Exécution > Modifier le type d'execution` et vérifiez que l'on est bien en Python 3 et que l'accélérateur matériel est configuré sur « GPU »."
   ]
  },
  {
   "cell_type": "code",
   "execution_count": 1,
   "metadata": {
    "id": "-S9vf7TtjjMa"
   },
   "outputs": [
    {
     "name": "stdout",
     "output_type": "stream",
     "text": [
      "zsh:1: command not found: nvidia-smi\r\n"
     ]
    }
   ],
   "source": [
    "!nvidia-smi"
   ]
  },
  {
   "cell_type": "markdown",
   "metadata": {
    "id": "BW2_sMt8cSP-"
   },
   "source": [
    "## Téléchargement du dataset Landscape depuis un repo git"
   ]
  },
  {
   "cell_type": "code",
   "execution_count": 2,
   "metadata": {
    "id": "TZXdRwk2Lq3i"
   },
   "outputs": [
    {
     "name": "stdout",
     "output_type": "stream",
     "text": [
      "Cloning into 'dataset-landscape'...\n",
      "remote: Enumerating objects: 24310, done.\u001b[K\n",
      "^Cceiving objects:   1% (413/24310), 5.96 MiB | 581.00 KiB/s \n",
      "fetch-pack: unexpected disconnect while reading sideband packet\n",
      "ls: dataset-landscape: No such file or directory\n",
      "***\n",
      "ls: dataset-landscape/seg_train: No such file or directory\n",
      "***\n",
      "ls: dataset-landscape/seg_pred: No such file or directory\n"
     ]
    }
   ],
   "source": [
    "!git clone https://github.com/nzmonzmp/dataset-landscape.git\n",
    "!ls dataset-landscape\n",
    "print(\"***\")\n",
    "!ls -l dataset-landscape/seg_train\n",
    "print(\"***\")\n",
    "!ls -l dataset-landscape/seg_pred"
   ]
  },
  {
   "cell_type": "markdown",
   "metadata": {
    "id": "N5hheTPDcdqN"
   },
   "source": [
    "## Import de TensorFlow et des autres librairies nécessaires"
   ]
  },
  {
   "cell_type": "code",
   "execution_count": null,
   "metadata": {
    "id": "SvZJ4yH6cNHE"
   },
   "outputs": [],
   "source": [
    "import itertools\n",
    "import os\n",
    "import pathlib\n",
    "import random\n",
    "import typing\n",
    "\n",
    "import cv2\n",
    "import matplotlib.pyplot as plt\n",
    "import numpy\n",
    "import pandas\n",
    "import seaborn\n",
    "import sklearn.utils\n",
    "import sklearn.metrics\n",
    "import tensorflow.keras as keras"
   ]
  },
  {
   "cell_type": "markdown",
   "metadata": {
    "id": "9zCSZcuhczAn"
   },
   "source": [
    "## Préparation des données\n",
    "\n",
    "Pour charger nos données, nous allons combiner plusieurs libraires : [OpenCV](https://opencv.org/), [NumPy](https://numpy.org/) et [scikit-learn](https://scikit-learn.org/stable/). Ces librairies seront appelées depuis la fonction `get_images`.\n",
    "\n",
    "Après avoir chargé chaque image, nous allons passer leur canaux en RGB puis les redimensionner à 150x150, enfin, par défaut, nous retournerons un dataset mélangé grâce à [`sklearn.utils.shuffle`](https://scikit-learn.org/stable/modules/generated/sklearn.utils.shuffle.html).\n",
    "\n",
    "*Complétez la fonction `get_images` qui va chercher les images dans `dir_path` contenant un dossier par classe. Chaque dossier de classe contient l'ensemble des images de cette classe. Il vous faut attribuer le label correct à chaque image.*"
   ]
  },
  {
   "cell_type": "code",
   "execution_count": null,
   "metadata": {
    "id": "l84GytKmeZM7"
   },
   "outputs": [],
   "source": [
    "label_names = [\"buildings\", \"forest\", \"glacier\", \"mountain\", \"sea\", \"street\"]\n",
    "\n",
    "\n",
    "def get_images(dir_path: pathlib.Path, shuffle: bool = True\n",
    "              ) -> typing.Tuple[numpy.ndarray, numpy.ndarray, numpy.ndarray]:\n",
    "  images = []\n",
    "  labels = []\n",
    "  file_paths  = []\n",
    "\n",
    "  # On itère sur les sous-dossier de la racine : ils correspondent chacun à une\n",
    "  # classe\n",
    "  for subdir_path in dir_path.iterdir():\n",
    "\n",
    "    # Attribuez le bon label en fonction du nom du dossier \"labels\"\n",
    "    # Votre code ici\n",
    "    label = None\n",
    "\n",
    "    # On ajoute chaque image du label (dossier) courant à notre dataset\n",
    "    for image_path in subdir_path.iterdir():\n",
    "      # Utilisation de OpenCV pour charger l'image\n",
    "      image = cv2.imread(str(image_path))\n",
    "      image = cv2.cvtColor(image, cv2.COLOR_BGR2RGB)\n",
    "      # En entrée d'un CNN, toutes les images doivent faire la même taille\n",
    "      image = cv2.resize(image, (150, 150))\n",
    "      images.append(image)\n",
    "      labels.append(label)\n",
    "      file_paths.append(image_path)\n",
    "\n",
    "  # Création des tableaux numpy que l'on va retourner\n",
    "  images, labels, file_paths = map(numpy.array, [images, labels, file_paths])\n",
    "\n",
    "  # Mélange de ces tableaux\n",
    "  if shuffle:\n",
    "    images, labels, file_paths = sklearn.utils.shuffle(images,\n",
    "                                                       labels,\n",
    "                                                       file_paths)\n",
    "  return images, labels, file_paths\n",
    "\n",
    "\n",
    "# get_images(pathlib.Path(\"dataset-landscape\") / \"seg_train\")"
   ]
  },
  {
   "cell_type": "markdown",
   "metadata": {
    "id": "VbswqLLSgMzK"
   },
   "source": [
    "## Solution"
   ]
  },
  {
   "cell_type": "code",
   "execution_count": null,
   "metadata": {
    "id": "-kv62rzC3wIO"
   },
   "outputs": [],
   "source": []
  },
  {
   "cell_type": "markdown",
   "metadata": {
    "id": "12Co3AuagRdQ"
   },
   "source": [
    "## Appel à `get_images`"
   ]
  },
  {
   "cell_type": "code",
   "execution_count": null,
   "metadata": {
    "id": "mlWHQMqbgUi_"
   },
   "outputs": [],
   "source": [
    "images, labels, file_paths = get_images(\n",
    "    pathlib.Path(\"dataset-landscape\") / \"seg_train\")"
   ]
  },
  {
   "cell_type": "code",
   "execution_count": null,
   "metadata": {
    "id": "Z9CFPgYahZ-_"
   },
   "outputs": [],
   "source": [
    "print(f\"Forme des images : {images.shape}\")\n",
    "print(f\"Forme des labels : {labels.shape}\")\n",
    "print(f\"Forme des chemins : {file_paths.shape}\")\n",
    "\n",
    "seaborn.countplot(x=labels)\n",
    "plt.title(\"Décomptes des différents labels\")\n",
    "plt.ylabel(\"Décompte\")\n",
    "plt.xlabel(\"Label\")\n",
    "plt.show()"
   ]
  },
  {
   "cell_type": "code",
   "execution_count": null,
   "metadata": {
    "id": "hRP8sepdhh8I"
   },
   "outputs": [],
   "source": [
    "# Création de la grille de sous-plots. On donne l'argument figsize pour agrandir\n",
    "# la taille de la figure qui est petite par défaut\n",
    "f, ax = plt.subplots(5, 5, figsize=(15, 15))\n",
    "\n",
    "# On choisit 25 indices au hasard, sans replacement (on ne veut pas afficher la\n",
    "# même image deux fois)\n",
    "random_indexes = numpy.random.choice(images.shape[0],\n",
    "                                     size=(5, 5),\n",
    "                                     replace=False)\n",
    "\n",
    "for i in range(5):\n",
    "  for j in range(5):\n",
    "    img_index = random_indexes[i, j]\n",
    "    image = images[img_index]\n",
    "    label = label_names[labels[img_index]]\n",
    "\n",
    "    # Affichage avec matplotlib et sa fonction imshow, très pratique en vision par\n",
    "    # ordinateur\n",
    "    ax[i, j].imshow(image)\n",
    "    ax[i, j].set_title(f\"Exemple {img_index} ({label})\")\n",
    "    ax[i, j].axis('off')"
   ]
  },
  {
   "cell_type": "markdown",
   "metadata": {
    "id": "8JOKqXxDP5jB"
   },
   "source": [
    "## Création du modèle\n",
    "\n",
    "Voici un exemple de CNN « minimaliste »"
   ]
  },
  {
   "cell_type": "code",
   "execution_count": null,
   "metadata": {
    "id": "qFvhX0LZjZw3"
   },
   "outputs": [],
   "source": [
    "# Initialisation et définition du modéle\n",
    "\n",
    "# Le modèle est un empilement de couches où le flux de données est séquentiel\n",
    "model = keras.models.Sequential()\n",
    "# Une première couche de 1 convolutions de 3x3 pixels\n",
    "model.add(keras.layers.Conv2D(1,\n",
    "                              kernel_size=(3, 3),\n",
    "                              activation=\"relu\",\n",
    "                              input_shape=(150, 150, 3)))\n",
    "# Une couche de max pooling\n",
    "model.add(keras.layers.MaxPool2D(3,3))\n",
    "\n",
    "# Une couche de manipulation des tenseurs : suppression de toutes les dimensions\n",
    "# sauf celle de batch et une autre qui contient toutes les valeurs\n",
    "model.add(keras.layers.Flatten())\n",
    "\n",
    "# Une couche de sortie dense avec 6 neurones et un softmax comme activation\n",
    "model.add(keras.layers.Dense(6, activation=\"softmax\"))\n",
    "\n",
    "# Compilation du modèle avec la définition de la fonction de perte\n",
    "model.compile(optimizer=keras.optimizers.Adam(learning_rate=0.0001),\n",
    "              loss=\"sparse_categorical_crossentropy\",\n",
    "              metrics=[\"accuracy\"])\n",
    "\n",
    "# Affichage d'un résumé du modèle\n",
    "model.summary()"
   ]
  },
  {
   "cell_type": "markdown",
   "metadata": {
    "id": "AYBPo9koUi7k"
   },
   "source": [
    "## Pouvez-vous expliquer les différents nombres de paramètres ?"
   ]
  },
  {
   "cell_type": "markdown",
   "metadata": {
    "id": "c6jAWFPyP85p"
   },
   "source": [
    "### Solution\n"
   ]
  },
  {
   "cell_type": "markdown",
   "metadata": {
    "id": "EaRo4VICP_mh"
   },
   "source": [
    "Premier layer de 1 convolutions : (taille du kernel) * (nb kernel) * (nb canaux en entrée) + (nb biais (= nb kernel)) = (3 * 3 ) * 1 * 3 + 1\n",
    "\n",
    "Dernier layer dense : (input dim) * (output dim) + (nb biais) = 2401 * 6 + 6\n",
    "\n"
   ]
  },
  {
   "cell_type": "markdown",
   "metadata": {
    "id": "woNSPikeU_xl"
   },
   "source": [
    "## Apprentissage\n",
    "\n",
    "Apprenons ce modèle sur nos données ! Dans un premier temps, nous entraînons sur une seule epoch pour simplement vérifier que notre modèle est opérationnel."
   ]
  },
  {
   "cell_type": "code",
   "execution_count": null,
   "metadata": {
    "id": "-vg7kkCCiyB_"
   },
   "outputs": [],
   "source": [
    "# Apprentissage du modèle\n",
    "training_history = model.fit(images, labels, epochs=1, validation_split=0.30)"
   ]
  },
  {
   "cell_type": "markdown",
   "metadata": {
    "id": "3ffuXmAvTuqF"
   },
   "source": [
    "## Améliorez cette performance\n",
    "\n",
    "Inspirez-vous du modèle précédent en rajoutant des couches, en faisant des couches plus petites ou plus grosses.\n",
    "\n",
    "Visez entre 10 et 20 itérations et mois de 1 minute par itération (pour des raisons évidentes).\n",
    "\n",
    "On peut considérer l'utilisation d'une couche de dropout juste avant la dernière couche dense pour améliorer la régularisation.\n",
    "\n",
    "On peut obtenir une précision supérieure à 70% sur la base de validation en un temps raisonnable.\n",
    "\n",
    "La solution proposée prend $\\approx$ 45 secondes par itération pendant 15 itérations et atteint aux alentour de 85% d'accuracy sur la base de validation."
   ]
  },
  {
   "cell_type": "code",
   "execution_count": null,
   "metadata": {
    "id": "K-j7dwcWUdZx"
   },
   "outputs": [],
   "source": [
    "# Vos améliorations ici\n",
    "model = keras.models.Sequential()\n",
    "model.add(keras.layers.Conv2D(10,\n",
    "                              kernel_size=(3, 3),\n",
    "                              activation=\"relu\",\n",
    "                              input_shape=(150, 150, 3)))\n",
    "model.add(keras.layers.MaxPool2D(3,3))\n",
    "model.add(keras.layers.Flatten())\n",
    "model.add(keras.layers.Dense(6, activation=\"softmax\"))\n",
    "model.compile(optimizer=keras.optimizers.Adam(learning_rate=0.0001),\n",
    "              loss=\"sparse_categorical_crossentropy\",\n",
    "              metrics=[\"accuracy\"])\n",
    "\n",
    "# Affichage d'un résumé du modèle\n",
    "model.summary()\n",
    "\n",
    "# Apprentissage du modèle\n",
    "training = model.fit(images, labels, epochs=10, validation_split=0.30)\n",
    "\n",
    "\n",
    "# Plot des métriques d'entraînement\n",
    "def plot_metrics(history) -> None:\n",
    "  plt.plot(training.history[\"accuracy\"])\n",
    "  plt.plot(training.history[\"val_accuracy\"])\n",
    "  plt.title(\"Accuracy du modèle\")\n",
    "  plt.ylabel(\"Accuracy\")\n",
    "  plt.xlabel(\"Epoch\")\n",
    "  plt.legend([\"Entraînement\", \"Validation\"], loc=\"upper left\")\n",
    "  plt.show()\n",
    "\n",
    "  plt.plot(training.history[\"loss\"])\n",
    "  plt.plot(training.history[\"val_loss\"])\n",
    "  plt.title(\"Perte du modèle\")\n",
    "  plt.ylabel(\"Perte\")\n",
    "  plt.xlabel(\"Epoch\")\n",
    "  plt.legend([\"Entraînement\", \"Validation\"], loc=\"upper right\")\n",
    "  plt.show()\n",
    "\n",
    "\n",
    "plot_metrics(training.history)"
   ]
  },
  {
   "cell_type": "markdown",
   "metadata": {
    "id": "eGazvkPxP0oX"
   },
   "source": [
    "### Solution"
   ]
  },
  {
   "cell_type": "code",
   "execution_count": null,
   "metadata": {
    "id": "8bIuRTZYAnWR"
   },
   "outputs": [],
   "source": []
  },
  {
   "cell_type": "code",
   "execution_count": null,
   "metadata": {
    "id": "3PsIIXF0hzy5"
   },
   "outputs": [],
   "source": [
    "# Apprentissage du modèle\n",
    "training = model.fit(images,\n",
    "                     labels,\n",
    "                     epochs=15,\n",
    "                     validation_split=0.30,\n",
    "                     batch_size=128)\n",
    "\n",
    "# Visualisation des métriques d'entrainement\n",
    "plot_metrics(training.history)"
   ]
  },
  {
   "cell_type": "markdown",
   "metadata": {
    "id": "hb_IT9QWeYPh"
   },
   "source": [
    "## Évaluation des performances sur l'ensemble de test\n",
    "\n",
    "Dans le dossier `seg_test` se trouve un ensemble de données qui n'ont jamais été vues durant l'apprentissage.\n",
    "\n",
    "On utilisera la méthode `evaluate(X, y)` du modèle pour évaluer la qualité de nos prédictions sur ce dataset."
   ]
  },
  {
   "cell_type": "code",
   "execution_count": null,
   "metadata": {
    "id": "pJubx-J7i882"
   },
   "outputs": [],
   "source": [
    "test_images,test_labels, test_file_paths = get_images(\n",
    "    pathlib.Path(\"dataset-landscape\") / \"seg_test\")\n",
    "model.evaluate(test_images, test_labels, verbose=1)"
   ]
  },
  {
   "cell_type": "markdown",
   "metadata": {
    "id": "RYPaPc0lpe0B"
   },
   "source": [
    "## Analyse d'erreur\n",
    "\n",
    "On affiche la matrice de confusion puis on regarde des images mal classées."
   ]
  },
  {
   "cell_type": "code",
   "execution_count": null,
   "metadata": {
    "id": "mfOlRq1Ep3KD"
   },
   "outputs": [],
   "source": [
    "def analyze_preds(preds, labels):\n",
    "  confusion_matrix = sklearn.metrics.confusion_matrix(preds,\n",
    "                                                      labels,\n",
    "                                                      normalize=\"true\")\n",
    "  seaborn.heatmap(confusion_matrix,\n",
    "                  cmap=\"rocket_r\",\n",
    "                  xticklabels=label_names,\n",
    "                  yticklabels=label_names)\n",
    "  plt.title(\"Matrice de confusion\")\n",
    "  plt.show()\n",
    "\n",
    "  seaborn.countplot(x=list(map(lambda x: label_names[x], preds)))\n",
    "  plt.title(\"Décomptes des classes prédites\")\n",
    "  plt.ylabel(\"Décompte\")\n",
    "  plt.xlabel(\"Class\")\n",
    "  plt.show()\n",
    "\n",
    "\n",
    "test_pred = numpy.argmax(model.predict(test_images), axis=-1)\n",
    "analyze_preds(test_pred, test_labels)"
   ]
  },
  {
   "cell_type": "code",
   "execution_count": null,
   "metadata": {
    "id": "hLUCp97BeUxu"
   },
   "outputs": [],
   "source": [
    "def plot_mistakes(predicted_class: str, true_class: str) -> None:\n",
    "  print(f\"Prédiction : {predicted_class}, classe réelle : {true_class}\")\n",
    "  mistakes = test_images[(test_pred == label_to_index[predicted_class])\n",
    "                         & (test_labels == label_to_index[true_class])]\n",
    "  random_indexes = numpy.random.choice(mistakes.shape[0],\n",
    "                                       size=min(mistakes.shape[0], 25),\n",
    "                                       replace=False)\n",
    "  grid_indexes = itertools.product(range(5), repeat=2)\n",
    "\n",
    "  _, ax = plt.subplots(5, 5, figsize=(15, 15))\n",
    "  for img_index, (i, j) in zip(random_indexes, grid_indexes):\n",
    "    ax[i, j].imshow(mistakes[img_index])\n",
    "    ax[i, j].axis(\"off\")\n",
    "  plt.show()"
   ]
  },
  {
   "cell_type": "code",
   "execution_count": null,
   "metadata": {
    "id": "43kc6Wgd9bkC"
   },
   "outputs": [],
   "source": [
    "# Plot les images prédites glacier alors qu'elles ont un label montagne\n",
    "plot_mistakes(\"glacier\", \"mountain\")"
   ]
  },
  {
   "cell_type": "code",
   "execution_count": null,
   "metadata": {
    "id": "_QyUe_6T_vL8"
   },
   "outputs": [],
   "source": [
    "# Plot les images prédites glacier alors qu'elles ont un label mer\n",
    "plot_mistakes(\"glacier\", \"sea\")"
   ]
  },
  {
   "cell_type": "code",
   "execution_count": null,
   "metadata": {
    "id": "eAgJItMSDE2-"
   },
   "outputs": [],
   "source": [
    "# Plot les images prédites bâtiment alors qu'elles ont un label mer\n",
    "plot_mistakes(\"buildings\", \"sea\")"
   ]
  },
  {
   "cell_type": "markdown",
   "metadata": {
    "id": "5VrH5FRb_OBy"
   },
   "source": [
    "## Transfert d'apprentissage"
   ]
  },
  {
   "cell_type": "code",
   "execution_count": null,
   "metadata": {
    "id": "QCDC0Hw6_Qrn"
   },
   "outputs": [],
   "source": [
    "base_model = keras.applications.EfficientNetB7(include_top=False,\n",
    "                                               weights=\"imagenet\",\n",
    "                                               input_shape=(150, 150, 3))\n",
    "\n",
    "base_model.trainable = False\n",
    "\n",
    "model = keras.Sequential(\n",
    "    [base_model,\n",
    "     keras.layers.SpatialDropout2D(0.1),\n",
    "     keras.layers.Conv2D(1024, 1, activation=\"relu\"),\n",
    "     keras.layers.SpatialDropout2D(0.1),\n",
    "     keras.layers.Conv2D(256, 1, activation=\"relu\"),\n",
    "     keras.layers.SpatialDropout2D(0.1),\n",
    "     keras.layers.Conv2D(64, 1, activation=\"relu\"),\n",
    "     keras.layers.SpatialDropout2D(0.1),\n",
    "     keras.layers.Conv2D(16, 1, activation=\"relu\"),\n",
    "     keras.layers.SpatialDropout2D(0.1),\n",
    "     keras.layers.Flatten(),\n",
    "     keras.layers.Dense(6, activation=\"softmax\", kernel_regularizer=\"l2\")])\n",
    "\n",
    "model.compile(optimizer=keras.optimizers.Adam(learning_rate=0.0001),\n",
    "              loss=\"sparse_categorical_crossentropy\",\n",
    "              metrics=[\"accuracy\"])\n",
    "\n",
    "model.summary()"
   ]
  },
  {
   "cell_type": "code",
   "execution_count": null,
   "metadata": {
    "id": "uzYvqXA6A4_b"
   },
   "outputs": [],
   "source": [
    "training = model.fit(images,\n",
    "                     labels,\n",
    "                     epochs=5,\n",
    "                     validation_split=0.30,\n",
    "                     batch_size=512)\n",
    "\n",
    "plot_metrics(training.history)"
   ]
  },
  {
   "cell_type": "code",
   "execution_count": null,
   "metadata": {
    "id": "9W-qBnuTAegR"
   },
   "outputs": [],
   "source": [
    "model.evaluate(test_images, test_labels, verbose=1)\n",
    "test_preds = numpy.argmax(model.predict(test_images), axis=-1)\n",
    "analyze_preds(test_preds, test_labels)\n",
    "plot_mistakes(\"glacier\", \"mountain\")\n",
    "plot_mistakes(\"glacier\", \"sea\")\n",
    "plot_mistakes(\"buildings\", \"sea\")"
   ]
  },
  {
   "cell_type": "markdown",
   "metadata": {
    "id": "v4Q5NiBKjO6X"
   },
   "source": [
    "## Prédire dans des condition « réelles »\n",
    "\n",
    "Dans le dossier `seg_pred` se trouvent des images non-annotées. On ne peut donc pas évaluer correctement les performances sur cet ensemble. \n",
    "\n",
    "Cependant, on peut afficher des photos et les probabilités que notre modèle attribue à chaque classe."
   ]
  },
  {
   "cell_type": "code",
   "execution_count": null,
   "metadata": {
    "id": "7yPf4WcytFzQ"
   },
   "outputs": [],
   "source": [
    "pred_images, _, pred_file_paths = get_images(\n",
    "    pathlib.Path(\"dataset-landscape\") / \"seg_pred\")\n",
    "pred_images.shape"
   ]
  },
  {
   "cell_type": "code",
   "execution_count": null,
   "metadata": {
    "id": "iMLmuIqvWAS6"
   },
   "outputs": [],
   "source": [
    "# Création de la grille de sous-plots. On donne l'argument figsize pour agrandir\n",
    "# la taille de la figure qui est petite par défaut\n",
    "_, ax = plt.subplots(10, 5, figsize=(30, 45))\n",
    "\n",
    "# On choisit 25 indices au hasard, sans replacement (on ne veut pas afficher la\n",
    "# même image deux fois)\n",
    "random_indexes = numpy.random.choice(pred_images.shape[0],\n",
    "                                     size=(5, 5),\n",
    "                                     replace=False)\n",
    "\n",
    "for i in range(5):\n",
    "  for j in range(5):\n",
    "    img_index = random_indexes[i, j]\n",
    "    # Récupération de l'image et prédiction de sa classe\n",
    "    image = pred_images[img_index]\n",
    "    probabilities = model.predict(image[None, ...])[0]\n",
    "    predicted_class = label_names[numpy.argmax(probabilities)]\n",
    "\n",
    "    # Affichage avec matplotlib et sa fonction imshow, très pratique en vision\n",
    "    # par ordinateur\n",
    "    ax[i * 2, j].imshow(image)\n",
    "    ax[i * 2, j].set_title(f\"Exemple {img_index}\")\n",
    "    ax[i * 2, j].axis('off')\n",
    "\n",
    "    # Affichage de la distribution de prédiction sur la ligne d'en dessous\n",
    "    ax[i * 2 + 1, j].bar(label_names, probabilities)"
   ]
  }
 ],
 "metadata": {
  "accelerator": "GPU",
  "colab": {
   "collapsed_sections": [
    "VbswqLLSgMzK",
    "c6jAWFPyP85p",
    "eGazvkPxP0oX"
   ],
   "name": "Copy of CNNs avec Keras sur des données de paysage.ipynb",
   "private_outputs": true,
   "provenance": [
    {
     "file_id": "1xLFNAWBJxmp0GBcRhmwKfZUbewBDq4hz",
     "timestamp": 1637764472783
    },
    {
     "file_id": "1wS56Bvj0KNGqMHIviwd2Y9uwYnUYkT5b",
     "timestamp": 1570893367950
    },
    {
     "file_id": "14MjAMPKQD3LIncUn2YEHJ3fBq8K2upuq",
     "timestamp": 1558960238747
    }
   ]
  },
  "kernelspec": {
   "display_name": "Python 3",
   "language": "python",
   "name": "python3"
  },
  "language_info": {
   "codemirror_mode": {
    "name": "ipython",
    "version": 3
   },
   "file_extension": ".py",
   "mimetype": "text/x-python",
   "name": "python",
   "nbconvert_exporter": "python",
   "pygments_lexer": "ipython3",
   "version": "3.6.13"
  }
 },
 "nbformat": 4,
 "nbformat_minor": 1
}
